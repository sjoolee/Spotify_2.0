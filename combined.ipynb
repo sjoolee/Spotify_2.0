{
 "cells": [
  {
   "cell_type": "code",
   "execution_count": 1,
   "id": "2d6c7883-2e03-4951-9b32-075590bee6d1",
   "metadata": {},
   "outputs": [],
   "source": [
    "import pandas as pd\n",
    "import numpy as np\n",
    "import matplotlib.pyplot as plt\n",
    "import scipy as sp\n",
    "import statsmodels.api as sm\n",
    "import statsmodels.stats.api as sms\n",
    "import seaborn as sns\n",
    "from statsmodels.formula.api import ols\n",
    "from statsmodels.stats.anova import anova_lm\n",
    "from statsmodels.graphics.tsaplots import plot_acf\n",
    "import warnings\n",
    "import csv\n",
    "import json\n",
    "import string\n",
    "import re\n",
    "from datetime import datetime"
   ]
  },
  {
   "cell_type": "code",
   "execution_count": 17,
   "id": "2fa1c7d5-5424-4875-8b4c-1e374e6dc3f5",
   "metadata": {},
   "outputs": [],
   "source": [
    "year_ranges = ['2020-2022', '2022-2023', '2023-2024', '2024-2025']\n",
    "combined = 'all_combined/Combined_data.csv'"
   ]
  },
  {
   "cell_type": "code",
   "execution_count": 3,
   "id": "136acbae-0ae8-4c58-8526-f3e52eed5276",
   "metadata": {},
   "outputs": [],
   "source": [
    "descriptors = ['- single mix', '- remix', '- live', '- extended', '- radio edit', '- mono']\n",
    "\n",
    "def normalize(name):\n",
    "    return name.translate(str.maketrans('', '', string.punctuation)).strip().lower()\n",
    "    \n",
    "def trim_descriptors(name):\n",
    "    name = re.sub(r'\\s*-\\s*feat.*$', '', name, flags=re.IGNORECASE).strip()\n",
    "    name = re.sub(r'[$$$\\<].*?[$$$\\>].*$', '', name, flags=re.IGNORECASE).strip()\n",
    "    for descriptor in descriptors:\n",
    "        name = name.lower().replace(descriptor, '').strip()\n",
    "    return name\n",
    "\n",
    "vect_norm = np.vectorize(normalize)\n",
    "vect_trim = np.vectorize(trim_descriptors)"
   ]
  },
  {
   "cell_type": "code",
   "execution_count": 7,
   "id": "db275c6a-ee75-49e8-8a9e-99c9743bff43",
   "metadata": {},
   "outputs": [],
   "source": [
    "song_age = 'song_age/song_age_data'+year_ranges[0]+'.csv'\n",
    "df_combined = pd.read_csv(song_age)"
   ]
  },
  {
   "cell_type": "code",
   "execution_count": 9,
   "id": "3b870016-a44c-4557-8645-b30375f08f8b",
   "metadata": {},
   "outputs": [],
   "source": [
    "for k in range(1,len(year_ranges)): #replace other num with: len(year_ranges)\n",
    "    found_index = []\n",
    "    df_combined = df_combined.reset_index() \n",
    "    df_combined = df_combined.drop([\"index\"], axis = 1)\n",
    "    a = df_combined[\"Track Name\"].to_numpy()\n",
    "    a = vect_norm(a)\n",
    "    \n",
    "    song_age = 'song_age/song_age_data'+year_ranges[k]+'.csv'\n",
    "    df_2 = pd.read_csv(song_age)\n",
    "    b = df_2[\"Track Name\"].to_numpy()\n",
    "    b = vect_norm(b)\n",
    "\n",
    "    for song in b:\n",
    "        found_b = np.where(b == song)\n",
    "        \n",
    "        if song in a: # found a match, add play_count data\n",
    "            found_a = np.where(a == song)\n",
    "            if found_a[0][0] not in found_index:\n",
    "                #print(df_2.loc[found_b[0][0]]['Track Name'])\n",
    "                found_index.append(found_a[0][0])\n",
    "                df_combined.loc[found_a[0][0], 'Play Count'] += df_2.loc[found_b[0][0], 'Play Count']\n",
    "            #print(\"a\", found_a[0])\n",
    "            #for i in range(1,len(found_a[0])):\n",
    "            #    df_combined = df_combined.reset_index() \n",
    "            #    df_combined = df_combined.drop([\"index\"], axis = 1)\n",
    "            #    df_combined = df_combined.drop(index=[found_a[0][-i]], axis = 1)\n",
    "            #a = df_combined[\"Track Name\"].to_numpy()\n",
    "            #a = vect_norm(a)\n",
    "            #found_a = np.where(a == song)\n",
    "            #print(\"a after\", found_a[0])\n",
    "            #df_combined.loc[found_a[0][0], 'Play Count'] += df_2.loc[found_b[0][0], 'Play Count']\n",
    "            \n",
    "            \n",
    "        else: # new song found, append to the end\n",
    "            #print(df_2.iloc[found_b[0][0]][\"Track Name\"])\n",
    "            df_combined.loc[df_combined.shape[0]+1] = df_2.iloc[found_b[0][0]]\n",
    "            #print(\"b\", found_b[0])\n",
    "            #for i in range(1,len(found_b[0])):\n",
    "            #    df_2 = df_2.reset_index() \n",
    "            #    df_2 = df_2.drop([\"index\"], axis = 1)\n",
    "            #    df_2 = df_2.drop(index=[found_b[0][-i]], axis = 1)\n",
    "            #b = df_2[\"Track Name\"].to_numpy()\n",
    "            #b = vect_norm(b)\n",
    "            #found_b = np.where(b == song)\n",
    "            #print(\"b after\", found_b[0])\n",
    "            "
   ]
  },
  {
   "cell_type": "code",
   "execution_count": 11,
   "id": "d47ca8f7-5bed-45a8-8aa1-88316c9d60ef",
   "metadata": {},
   "outputs": [],
   "source": [
    "df_combined.to_csv(combined, index=False)"
   ]
  }
 ],
 "metadata": {
  "kernelspec": {
   "display_name": "Python 3 (ipykernel)",
   "language": "python",
   "name": "python3"
  },
  "language_info": {
   "codemirror_mode": {
    "name": "ipython",
    "version": 3
   },
   "file_extension": ".py",
   "mimetype": "text/x-python",
   "name": "python",
   "nbconvert_exporter": "python",
   "pygments_lexer": "ipython3",
   "version": "3.12.4"
  }
 },
 "nbformat": 4,
 "nbformat_minor": 5
}
