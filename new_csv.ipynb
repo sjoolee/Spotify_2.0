{
 "cells": [
  {
   "cell_type": "code",
   "execution_count": null,
   "id": "fc516e3a-2aef-49e1-b16c-2ea39e998a6b",
   "metadata": {},
   "outputs": [],
   "source": [
    "# title, artist, album"
   ]
  },
  {
   "cell_type": "code",
   "execution_count": 45,
   "id": "854855b6-f0c4-468c-89db-b0d58cb84862",
   "metadata": {},
   "outputs": [],
   "source": [
    "import pandas as pd\n",
    "import numpy as np\n",
    "import matplotlib.pyplot as plt\n",
    "import scipy as sp\n",
    "import statsmodels.api as sm\n",
    "import statsmodels.stats.api as sms\n",
    "import seaborn as sns\n",
    "from statsmodels.formula.api import ols\n",
    "from statsmodels.stats.anova import anova_lm\n",
    "from statsmodels.graphics.tsaplots import plot_acf\n",
    "import warnings\n",
    "import csv\n",
    "import json"
   ]
  },
  {
   "cell_type": "code",
   "execution_count": null,
   "id": "1c09ad31-a05c-45c2-a4b7-fa5e4f416448",
   "metadata": {},
   "outputs": [],
   "source": [
    "json_data = json.loads(my_data, encoding='utf-8')"
   ]
  },
  {
   "cell_type": "code",
   "execution_count": 97,
   "id": "60e2f3aa-5841-4ba9-8482-79cd412341a5",
   "metadata": {},
   "outputs": [],
   "source": [
    "with open('Streaming_History_Audio_2022-2023_1.json', 'r', encoding='utf-8-sig') as file:\n",
    "    data = json.load(file)\n",
    "\n",
    "# Convert to DataFrame\n",
    "df = pd.DataFrame(data)\n",
    "df.to_csv('test2.csv', index=False)"
   ]
  },
  {
   "cell_type": "code",
   "execution_count": 90,
   "id": "7219ef23-2e37-4923-8b3a-5f2e17defeef",
   "metadata": {},
   "outputs": [],
   "source": [
    "# Read the CSV file into a DataFrame\n",
    "df = pd.read_csv('test2.csv')\n",
    "df = df[[\"master_metadata_track_name\", \"master_metadata_album_artist_name\", \"master_metadata_album_album_name\"]]"
   ]
  },
  {
   "cell_type": "code",
   "execution_count": 92,
   "id": "465fff32-754c-41fd-9b80-626e034b6d07",
   "metadata": {},
   "outputs": [
    {
     "data": {
      "text/html": [
       "<div>\n",
       "<style scoped>\n",
       "    .dataframe tbody tr th:only-of-type {\n",
       "        vertical-align: middle;\n",
       "    }\n",
       "\n",
       "    .dataframe tbody tr th {\n",
       "        vertical-align: top;\n",
       "    }\n",
       "\n",
       "    .dataframe thead th {\n",
       "        text-align: right;\n",
       "    }\n",
       "</style>\n",
       "<table border=\"1\" class=\"dataframe\">\n",
       "  <thead>\n",
       "    <tr style=\"text-align: right;\">\n",
       "      <th></th>\n",
       "      <th>master_metadata_track_name</th>\n",
       "      <th>master_metadata_album_artist_name</th>\n",
       "      <th>master_metadata_album_album_name</th>\n",
       "    </tr>\n",
       "  </thead>\n",
       "  <tbody>\n",
       "    <tr>\n",
       "      <th>0</th>\n",
       "      <td>parking lot view</td>\n",
       "      <td>almost monday</td>\n",
       "      <td>parking lot view</td>\n",
       "    </tr>\n",
       "    <tr>\n",
       "      <th>1</th>\n",
       "      <td>we made it.</td>\n",
       "      <td>david hugo</td>\n",
       "      <td>Blossom Hill</td>\n",
       "    </tr>\n",
       "    <tr>\n",
       "      <th>2</th>\n",
       "      <td>Electric Love</td>\n",
       "      <td>BØRNS</td>\n",
       "      <td>Dopamine</td>\n",
       "    </tr>\n",
       "    <tr>\n",
       "      <th>3</th>\n",
       "      <td>this is what falling in love feels like</td>\n",
       "      <td>JVKE</td>\n",
       "      <td>this is what falling in love feels like</td>\n",
       "    </tr>\n",
       "    <tr>\n",
       "      <th>4</th>\n",
       "      <td>Talk Too Much</td>\n",
       "      <td>COIN</td>\n",
       "      <td>How Will You Know If You Never Try</td>\n",
       "    </tr>\n",
       "  </tbody>\n",
       "</table>\n",
       "</div>"
      ],
      "text/plain": [
       "                master_metadata_track_name master_metadata_album_artist_name  \\\n",
       "0                         parking lot view                     almost monday   \n",
       "1                              we made it.                        david hugo   \n",
       "2                            Electric Love                             BØRNS   \n",
       "3  this is what falling in love feels like                              JVKE   \n",
       "4                            Talk Too Much                              COIN   \n",
       "\n",
       "          master_metadata_album_album_name  \n",
       "0                         parking lot view  \n",
       "1                             Blossom Hill  \n",
       "2                                 Dopamine  \n",
       "3  this is what falling in love feels like  \n",
       "4       How Will You Know If You Never Try  "
      ]
     },
     "execution_count": 92,
     "metadata": {},
     "output_type": "execute_result"
    }
   ],
   "source": [
    "df.head()"
   ]
  },
  {
   "cell_type": "code",
   "execution_count": 95,
   "id": "367df590-de70-4bd7-af25-42f9e2fc5c21",
   "metadata": {},
   "outputs": [],
   "source": [
    "df.to_csv('cols_2022-2023.csv', index=False)"
   ]
  },
  {
   "cell_type": "code",
   "execution_count": null,
   "id": "7f1b2b80-b469-44cc-8441-af5ad570e5ab",
   "metadata": {},
   "outputs": [],
   "source": []
  }
 ],
 "metadata": {
  "kernelspec": {
   "display_name": "Python 3 (ipykernel)",
   "language": "python",
   "name": "python3"
  },
  "language_info": {
   "codemirror_mode": {
    "name": "ipython",
    "version": 3
   },
   "file_extension": ".py",
   "mimetype": "text/x-python",
   "name": "python",
   "nbconvert_exporter": "python",
   "pygments_lexer": "ipython3",
   "version": "3.12.4"
  }
 },
 "nbformat": 4,
 "nbformat_minor": 5
}
