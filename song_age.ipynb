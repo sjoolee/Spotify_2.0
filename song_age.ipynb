{
 "cells": [
  {
   "cell_type": "code",
   "execution_count": 2,
   "id": "4318e593-7869-4324-8b8f-0af105a86e70",
   "metadata": {},
   "outputs": [],
   "source": [
    "import pandas as pd\n",
    "import numpy as np\n",
    "import matplotlib.pyplot as plt\n",
    "import scipy as sp\n",
    "import statsmodels.api as sm\n",
    "import statsmodels.stats.api as sms\n",
    "import seaborn as sns\n",
    "from statsmodels.formula.api import ols\n",
    "from statsmodels.stats.anova import anova_lm\n",
    "from statsmodels.graphics.tsaplots import plot_acf\n",
    "import warnings\n",
    "import csv\n",
    "import json\n",
    "import string\n",
    "import re\n",
    "from datetime import datetime"
   ]
  },
  {
   "cell_type": "code",
   "execution_count": 18,
   "id": "cd2feb14-a544-4b71-bcae-bb2083e0e178",
   "metadata": {},
   "outputs": [],
   "source": [
    "# required names, change the first 2 lines\n",
    "year_range = '2024-2025'\n",
    "# creates new files, used for analysis later\n",
    "with_play_count = 'exportify_play_count/Combined_Play_Count'+year_range+'.csv'\n",
    "song_age = 'song_age/song_age_data'+year_range+'.csv'"
   ]
  },
  {
   "cell_type": "code",
   "execution_count": 4,
   "id": "804357b8-664b-49b5-b0f4-9a889ba47437",
   "metadata": {},
   "outputs": [],
   "source": [
    "def remove_nan_or_empty_rows(df):\n",
    "    df.replace(\"\", float(\"nan\"), inplace=True)\n",
    "\n",
    "    df_cleaned = df.dropna()\n",
    "\n",
    "    return df_cleaned\n",
    "\n",
    "def preprocess_data(df):   \n",
    "    # Convert 'Release Date' to age (years since release)\n",
    "    def parse_release_date(date):\n",
    "        try:\n",
    "            if pd.isna(date):\n",
    "                return None\n",
    "            date_str = str(date)\n",
    "            if len(date_str) == 4:  # If only the year is provided\n",
    "                return datetime(int(date_str), 1, 1)\n",
    "            return pd.to_datetime(date, errors='coerce')\n",
    "        except:\n",
    "            return None\n",
    "\n",
    "    df['Release Date'] = df['Release Date'].apply(parse_release_date)\n",
    "    df['Song Age'] = (datetime.now() - df['Release Date']).dt.days / 365.25\n",
    "    df.drop(columns=['Release Date'], inplace=True)\n",
    "\n",
    "    # Convert 'Key' and 'Time Signature' to categorical codes safely\n",
    "    df['Key'] = pd.to_numeric(df['Key'], errors='coerce').fillna(0).astype(int)\n",
    "    df['Time Signature'] = pd.to_numeric(df['Time Signature'], errors='coerce').fillna(0).astype(int)\n",
    "\n",
    "    return df\n",
    "\n",
    "def process_csv(input_file, output_file):\n",
    "    df = pd.read_csv(input_file)\n",
    "\n",
    "    #df = remove_nan_or_empty_rows(df)\n",
    "    df = preprocess_data(df)\n",
    "\n",
    "\n",
    "    df.to_csv(output_file, index=False)\n",
    "    print(f\"Processed data saved to {output_file}\")\n",
    "    return df"
   ]
  },
  {
   "cell_type": "code",
   "execution_count": 5,
   "id": "8b2c29ef-6545-4415-be0a-a36d0a4776ba",
   "metadata": {},
   "outputs": [
    {
     "name": "stdout",
     "output_type": "stream",
     "text": [
      "Processed data saved to all_combined/Combined_data2024-2025.csv\n"
     ]
    }
   ],
   "source": [
    "process_csv(with_play_count, combined)\n",
    "df = pd.read_csv(combined)"
   ]
  },
  {
   "cell_type": "code",
   "execution_count": 6,
   "id": "6ad0a126-c189-479e-b34a-986cea360a5d",
   "metadata": {},
   "outputs": [],
   "source": [
    "df_arranged = df[[\"Track Name\", \"Album Name\", \"Artist Name(s)\", \"Added At\", \"Genres\", \"Duration (ms)\",\n",
    "                \"Popularity\", \"Danceability\", \"Key\", \"Loudness\", \"Speechiness\", \"Acousticness\", \"Instrumentalness\", \n",
    "                \"Liveness\", \"Valence\", \"Tempo\", \"Time Signature\", \"Song Age\", \"Play Count\"]]\n",
    "df_arranged.to_csv(combined, index=False)"
   ]
  }
 ],
 "metadata": {
  "kernelspec": {
   "display_name": "Python 3 (ipykernel)",
   "language": "python",
   "name": "python3"
  },
  "language_info": {
   "codemirror_mode": {
    "name": "ipython",
    "version": 3
   },
   "file_extension": ".py",
   "mimetype": "text/x-python",
   "name": "python",
   "nbconvert_exporter": "python",
   "pygments_lexer": "ipython3",
   "version": "3.12.4"
  }
 },
 "nbformat": 4,
 "nbformat_minor": 5
}
