{
 "cells": [
  {
   "cell_type": "code",
   "execution_count": 2,
   "id": "d118c361-6b84-45e1-a046-2eb794ebb996",
   "metadata": {},
   "outputs": [],
   "source": [
    "import pandas as pd\n",
    "import numpy as np\n",
    "import matplotlib.pyplot as plt\n",
    "import scipy as sp\n",
    "import statsmodels.api as sm\n",
    "import statsmodels.stats.api as sms\n",
    "import seaborn as sns\n",
    "from statsmodels.formula.api import ols\n",
    "from statsmodels.stats.anova import anova_lm\n",
    "from statsmodels.graphics.tsaplots import plot_acf\n",
    "import warnings\n",
    "import csv\n",
    "import json\n",
    "import string\n",
    "import re"
   ]
  },
  {
   "cell_type": "code",
   "execution_count": 3,
   "id": "8271a2ef-8f5c-4d2a-801e-676635d2c115",
   "metadata": {},
   "outputs": [],
   "source": [
    "# required names, change the first 2 lines\n",
    "year_range = '2024-2025'\n",
    "json_num = '3'\n",
    "# files must already exist, auto adjusts based on previous 2 lines\n",
    "exportify_data = 'cols'+year_range+'_Exportify.csv'\n",
    "json_og_data = 'Streaming_History_Audio_'+year_range+'_'+json_num+'.json'\n",
    "# creates new files, used for analysis later\n",
    "og_data = year_range+'_og.csv'\n",
    "soundiz_format = 'soundiz_'+year_range+'.csv'\n",
    "with_play_count = 'Combined_Play_Count'+year_range+'.csv'"
   ]
  },
  {
   "cell_type": "code",
   "execution_count": 4,
   "id": "128e2f8b-43f0-4e5e-b607-45aeae5d4665",
   "metadata": {},
   "outputs": [],
   "source": [
    "df_exportify = pd.read_csv(exportify_data)\n",
    "df_exportify = df_exportify.drop([\"Track ID\", \"Added By\", \"Record Label\", \"Energy\", \"Mode\"], axis = 1)"
   ]
  },
  {
   "cell_type": "code",
   "execution_count": 5,
   "id": "bf8c1d23-b253-487b-ad7b-79f7f86b66d9",
   "metadata": {},
   "outputs": [],
   "source": [
    "with open(json_og_data, 'r', encoding='utf-8-sig') as file:\n",
    "    data = json.load(file)\n",
    "\n",
    "# Convert to DataFrame\n",
    "df_og = pd.DataFrame(data)\n",
    "df_og.to_csv(og_data, index=False)\n",
    "df_title_artist_album = df_og[[\"ts\", \"master_metadata_track_name\", \"master_metadata_album_artist_name\", \"master_metadata_album_album_name\"]]\n",
    "df_title_artist_album.to_csv(soundiz_format, index=False)"
   ]
  },
  {
   "cell_type": "code",
   "execution_count": 6,
   "id": "0271a292-6aec-47d1-b4d9-b3142ceb9a22",
   "metadata": {},
   "outputs": [
    {
     "data": {
      "text/html": [
       "<div>\n",
       "<style scoped>\n",
       "    .dataframe tbody tr th:only-of-type {\n",
       "        vertical-align: middle;\n",
       "    }\n",
       "\n",
       "    .dataframe tbody tr th {\n",
       "        vertical-align: top;\n",
       "    }\n",
       "\n",
       "    .dataframe thead th {\n",
       "        text-align: right;\n",
       "    }\n",
       "</style>\n",
       "<table border=\"1\" class=\"dataframe\">\n",
       "  <thead>\n",
       "    <tr style=\"text-align: right;\">\n",
       "      <th></th>\n",
       "      <th>ts</th>\n",
       "    </tr>\n",
       "    <tr>\n",
       "      <th>master_metadata_track_name</th>\n",
       "      <th></th>\n",
       "    </tr>\n",
       "  </thead>\n",
       "  <tbody>\n",
       "    <tr>\n",
       "      <th>Rainy Days</th>\n",
       "      <td>254</td>\n",
       "    </tr>\n",
       "    <tr>\n",
       "      <th>Blue</th>\n",
       "      <td>214</td>\n",
       "    </tr>\n",
       "    <tr>\n",
       "      <th>Love Me Again</th>\n",
       "      <td>230</td>\n",
       "    </tr>\n",
       "    <tr>\n",
       "      <th>Slow Dancing</th>\n",
       "      <td>210</td>\n",
       "    </tr>\n",
       "    <tr>\n",
       "      <th>For Us</th>\n",
       "      <td>198</td>\n",
       "    </tr>\n",
       "    <tr>\n",
       "      <th>...</th>\n",
       "      <td>...</td>\n",
       "    </tr>\n",
       "    <tr>\n",
       "      <th>Breaking Patterns</th>\n",
       "      <td>1</td>\n",
       "    </tr>\n",
       "    <tr>\n",
       "      <th>A Different Kind Of Love</th>\n",
       "      <td>1</td>\n",
       "    </tr>\n",
       "    <tr>\n",
       "      <th>Cocopops</th>\n",
       "      <td>1</td>\n",
       "    </tr>\n",
       "    <tr>\n",
       "      <th>You're a Liar (You Love Me)</th>\n",
       "      <td>1</td>\n",
       "    </tr>\n",
       "    <tr>\n",
       "      <th>hope ur ok</th>\n",
       "      <td>1</td>\n",
       "    </tr>\n",
       "  </tbody>\n",
       "</table>\n",
       "<p>2974 rows × 1 columns</p>\n",
       "</div>"
      ],
      "text/plain": [
       "                              ts\n",
       "master_metadata_track_name      \n",
       "Rainy Days                   254\n",
       "Blue                         214\n",
       "Love Me Again                230\n",
       "Slow Dancing                 210\n",
       "For Us                       198\n",
       "...                          ...\n",
       "Breaking Patterns              1\n",
       "A Different Kind Of Love       1\n",
       "Cocopops                       1\n",
       "You're a Liar (You Love Me)    1\n",
       "hope ur ok                     1\n",
       "\n",
       "[2974 rows x 1 columns]"
      ]
     },
     "execution_count": 6,
     "metadata": {},
     "output_type": "execute_result"
    }
   ],
   "source": [
    "freq_count = df_title_artist_album.groupby('master_metadata_track_name', sort = False).count().drop([\"master_metadata_album_artist_name\", \"master_metadata_album_album_name\"], axis=1)\n",
    "freq_count"
   ]
  },
  {
   "cell_type": "code",
   "execution_count": 7,
   "id": "193584eb-faa0-45ca-9b64-e375a0fce398",
   "metadata": {},
   "outputs": [],
   "source": [
    "descriptors = ['- single mix', '- remix', '- live', '- extended', '- radio edit', '- mono']\n",
    "\n",
    "def normalize(name):\n",
    "    return name.translate(str.maketrans('', '', string.punctuation)).strip().lower()\n",
    "    \n",
    "def trim_descriptors(name):\n",
    "    name = re.sub(r'\\s*-\\s*feat.*$', '', name, flags=re.IGNORECASE).strip()\n",
    "    name = re.sub(r'[$$$\\<].*?[$$$\\>].*$', '', name, flags=re.IGNORECASE).strip()\n",
    "    for descriptor in descriptors:\n",
    "        name = name.lower().replace(descriptor, '').strip()\n",
    "    return name"
   ]
  },
  {
   "cell_type": "code",
   "execution_count": 8,
   "id": "d79dd6d5-2a19-4052-9426-12e6ce1bae0c",
   "metadata": {},
   "outputs": [],
   "source": [
    "freq = []\n",
    "for i in range(df_exportify.shape[0]):\n",
    "    norm_exportify = normalize(trim_descriptors(df_exportify.loc[i]['Track Name']))\n",
    "    found = False\n",
    "    for j in range(0,freq_count.shape[0]):\n",
    "        norm_freq_count = normalize(trim_descriptors(freq_count.iloc[j].name))\n",
    "        if (norm_freq_count == norm_exportify):\n",
    "            freq.append(freq_count.iloc[j].values[0])\n",
    "            found = True\n",
    "            break\n",
    "    \n",
    "    if (found == False):\n",
    "        freq.append(None)\n",
    "        #print(f\"No match found for: {df_exportify.loc[i]['Track Name']} (normalized: {norm_exportify})\")"
   ]
  },
  {
   "cell_type": "code",
   "execution_count": 9,
   "id": "e77dcae5-0fc5-4dd8-84b3-2fe7ca9de5d4",
   "metadata": {},
   "outputs": [],
   "source": [
    "a = pd.Series(freq, name='Play Count')\n",
    "df_play_count = pd.concat([df_exportify, a], axis=1)\n",
    "df_new = df_play_count.dropna(subset=['Play Count'])"
   ]
  },
  {
   "cell_type": "code",
   "execution_count": 10,
   "id": "3fbc1a64-0381-4591-b66d-f94364e49785",
   "metadata": {},
   "outputs": [],
   "source": [
    "df_new.to_csv(with_play_count, index=False)"
   ]
  }
 ],
 "metadata": {
  "kernelspec": {
   "display_name": "Python 3 (ipykernel)",
   "language": "python",
   "name": "python3"
  },
  "language_info": {
   "codemirror_mode": {
    "name": "ipython",
    "version": 3
   },
   "file_extension": ".py",
   "mimetype": "text/x-python",
   "name": "python",
   "nbconvert_exporter": "python",
   "pygments_lexer": "ipython3",
   "version": "3.12.4"
  }
 },
 "nbformat": 4,
 "nbformat_minor": 5
}
